{
 "cells": [
  {
   "cell_type": "markdown",
   "metadata": {},
   "source": [
    "# 0. SETUP"
   ]
  },
  {
   "cell_type": "markdown",
   "metadata": {},
   "source": [
    "## 0.A. Imports and constants"
   ]
  },
  {
   "cell_type": "code",
   "execution_count": 40,
   "metadata": {},
   "outputs": [
    {
     "name": "stdout",
     "output_type": "stream",
     "text": [
      "Requirement already satisfied: requests in /Users/clementpiat/anaconda3/lib/python3.7/site-packages (from -r ./Requirements.txt (line 1)) (2.21.0)\n",
      "Requirement already satisfied: feedly-client in /Users/clementpiat/anaconda3/lib/python3.7/site-packages (from -r ./Requirements.txt (line 2)) (0.19)\n",
      "Requirement already satisfied: pyquery in /Users/clementpiat/anaconda3/lib/python3.7/site-packages (from -r ./Requirements.txt (line 3)) (1.4.0)\n",
      "Requirement already satisfied: idna<2.9,>=2.5 in /Users/clementpiat/anaconda3/lib/python3.7/site-packages (from requests->-r ./Requirements.txt (line 1)) (2.8)\n",
      "Requirement already satisfied: certifi>=2017.4.17 in /Users/clementpiat/anaconda3/lib/python3.7/site-packages (from requests->-r ./Requirements.txt (line 1)) (2018.11.29)\n",
      "Requirement already satisfied: chardet<3.1.0,>=3.0.2 in /Users/clementpiat/anaconda3/lib/python3.7/site-packages (from requests->-r ./Requirements.txt (line 1)) (3.0.4)\n",
      "Requirement already satisfied: urllib3<1.25,>=1.21.1 in /Users/clementpiat/anaconda3/lib/python3.7/site-packages (from requests->-r ./Requirements.txt (line 1)) (1.24.1)\n",
      "Requirement already satisfied: lxml>=2.1 in /Users/clementpiat/anaconda3/lib/python3.7/site-packages (from pyquery->-r ./Requirements.txt (line 3)) (4.2.5)\n",
      "Requirement already satisfied: cssselect>0.7.9 in /Users/clementpiat/anaconda3/lib/python3.7/site-packages (from pyquery->-r ./Requirements.txt (line 3)) (1.0.3)\n"
     ]
    }
   ],
   "source": [
    "!pip install -r './Requirements.txt'"
   ]
  },
  {
   "cell_type": "code",
   "execution_count": 41,
   "metadata": {},
   "outputs": [],
   "source": [
    "from feedly.session import FeedlySession\n",
    "from feedly.data import StreamOptions, Streamable\n",
    "from bs4 import BeautifulSoup\n",
    "import pandas as pd\n",
    "import numpy as np\n",
    "import urllib3\n",
    "urllib3.disable_warnings()\n",
    "\n",
    "from tqdm import tqdm\n",
    "import requests\n",
    "from pyquery import PyQuery\n",
    "import re\n",
    "import gensim\n",
    "from gensim.corpora import Dictionary\n",
    "from sklearn.model_selection import cross_validate"
   ]
  },
  {
   "cell_type": "code",
   "execution_count": 42,
   "metadata": {},
   "outputs": [],
   "source": [
    "k = 500"
   ]
  },
  {
   "cell_type": "markdown",
   "metadata": {},
   "source": [
    "## 0.B. First tests of the API"
   ]
  },
  {
   "cell_type": "code",
   "execution_count": 43,
   "metadata": {},
   "outputs": [],
   "source": [
    "token = \"A_A2lqPARnik4gx7Dv6jWaEo-IkWqDGsCguzaXDnPNxsiHZPCR-EUdQ4t8fZjEKCaMcUR4cOEn0FsiIyaacIbiCVHCPdhAfDTCAB0O-OJPdoffJeSxCcgJCVuR64gPNJ4WvU8NbQerBA7rG7GIBm6vLTe8BVyAAQvt0zcW463M5X8hXHkWVXIyZiY2pQiddxkbEbjt_VLdvSnZwYrjZecB6FPdfin-MToyYuYaEi9-eHcpk:feedly\""
   ]
  },
  {
   "cell_type": "code",
   "execution_count": 44,
   "metadata": {},
   "outputs": [],
   "source": [
    "sess = FeedlySession(auth=token)"
   ]
  },
  {
   "cell_type": "code",
   "execution_count": 45,
   "metadata": {},
   "outputs": [
    {
     "name": "stdout",
     "output_type": "stream",
     "text": [
      "Personal feeds:\n",
      "\t \"84ba8ab4-2a00-4af8-b574-3ed9e2f6a8d9\" (Random)\n",
      "\t \"aa5c0982-1aa4-4598-b9d5-fd2f17c697d2\" (AGI)\n",
      "\t \"d6be99dc-5a14-45f5-8d2a-9dd6937c6d93\" (Start-up)\n",
      "Personal boards:\n"
     ]
    }
   ],
   "source": [
    "# print the names of all your feeds (categories) and boards (tags)\n",
    "print(\"Personal feeds:\")\n",
    "for category_uuid, category_data in sess.user.get_categories().items():\n",
    "  print(\"\\t\", f'\"{category_uuid}\"', f\"({category_data['label']})\")\n",
    "print(\"Personal boards:\")\n",
    "for tag_name in sess.user.get_tags():\n",
    "  print(\"\\t\",f'\"{tag_name}\"')"
   ]
  },
  {
   "cell_type": "markdown",
   "metadata": {},
   "source": [
    "# 1. DOWNLOAD DATA"
   ]
  },
  {
   "cell_type": "markdown",
   "metadata": {},
   "source": [
    "## 1.A. Retrieve artciles from the stream"
   ]
  },
  {
   "cell_type": "code",
   "execution_count": 46,
   "metadata": {},
   "outputs": [],
   "source": [
    "source_feed = \"feed/http://feeds.harvardbusiness.org/harvardbusiness/\"\n",
    "base_query = f\"/v3/streams/contents?streamId={source_feed}\" \n",
    "articles = list(Streamable({'id': source_feed}, sess).stream_contents(options=StreamOptions(max_count=k)))"
   ]
  },
  {
   "cell_type": "code",
   "execution_count": 47,
   "metadata": {},
   "outputs": [
    {
     "data": {
      "text/plain": [
       "{'id': 'RUSFMaap2epUB1Hxr7coT6Cd7n5A3BtYAIay0ExHdcs=_16934ddfe1b:b2c63a:b77f238b',\n",
       " 'keywords': ['Social responsibility', 'Sustainability', 'Digital Article'],\n",
       " 'originId': 'tag:blogs.harvardbusiness.org,2007-03-31:999.224925',\n",
       " 'fingerprint': 'd5b540e5',\n",
       " 'content': {'content': '<p>Protecting at-risk communities can be part of a strong environmental strategy.</p>\\n<div>\\n<a href=\"http://feeds.harvardbusiness.org/~ff/harvardbusiness?a=uJY6jvAFirs:73QGvybABeI:yIl2AUoC8zA\"><img border=\"0\" src=\"http://feeds.feedburner.com/~ff/harvardbusiness?d=yIl2AUoC8zA\"></a> <a href=\"http://feeds.harvardbusiness.org/~ff/harvardbusiness?a=uJY6jvAFirs:73QGvybABeI:bcOpcFrp8Mo\"><img border=\"0\" src=\"http://feeds.feedburner.com/~ff/harvardbusiness?d=bcOpcFrp8Mo\"></a>\\n</div><img width=\"1\" alt=\"\" src=\"http://feeds.feedburner.com/~r/harvardbusiness/~4/uJY6jvAFirs\" height=\"1\">',\n",
       "  'direction': 'ltr'},\n",
       " 'title': 'What Would the Green New Deal Mean for Businesses?',\n",
       " 'updated': 1551369612000,\n",
       " 'crawled': 1551370157595,\n",
       " 'published': 1551369612000,\n",
       " 'canonical': [{'href': 'https://hbr.org/2019/02/what-would-the-green-new-deal-mean-for-businesses',\n",
       "   'type': 'text/html'}],\n",
       " 'origin': {'streamId': 'feed/http://feeds.harvardbusiness.org/harvardbusiness/',\n",
       "  'title': 'Harvard Business Review ',\n",
       "  'htmlUrl': 'http://hbr.org'},\n",
       " 'author': 'Sanya Carley',\n",
       " 'alternate': [{'href': 'http://feeds.harvardbusiness.org/~r/harvardbusiness/~3/uJY6jvAFirs/what-would-the-green-new-deal-mean-for-businesses',\n",
       "   'type': 'text/html'}],\n",
       " 'visual': {'url': 'https://hbr.org/resources/images/article_assets/2019/02/Feb19_28_82401108.jpg',\n",
       "  'width': 1200,\n",
       "  'height': 675,\n",
       "  'expirationDate': 1559182962991,\n",
       "  'processor': 'feedly-nikon-v3.1',\n",
       "  'edgeCacheUrl': 'https://lh3.googleusercontent.com/tsIv3438GfTU8VD17S_mFxJuEjBcydrP7rITiV1zl3ZEYSegcLsdWr_RB1GTUOUH-c7eqkvpwTd9wRKFual53m9C418',\n",
       "  'contentType': 'image/jpeg; charset=UTF-8'},\n",
       " 'unread': False,\n",
       " 'commonTopics': [{'id': 'nlp/f/topic/772', 'label': 'energy'},\n",
       "  {'id': 'nlp/f/topic/2126', 'label': 'solar'},\n",
       "  {'id': 'nlp/f/topic/2488', 'label': 'wind'},\n",
       "  {'id': 'nlp/f/topic/1712', 'label': 'peak oil'},\n",
       "  {'id': 'nlp/f/topic/1376', 'label': 'ma'},\n",
       "  {'id': 'nlp/f/topic/482', 'label': 'climate'},\n",
       "  {'id': 'nlp/f/topic/2192', 'label': 'strategy'},\n",
       "  {'id': 'nlp/f/topic/2115', 'label': 'social innovation'},\n",
       "  {'id': 'nlp/f/topic/1627', 'label': 'oil'}],\n",
       " 'entities': [{'id': 'nlp/f/entity/wd:30',\n",
       "   'label': 'United States of America',\n",
       "   'mentions': [{'text': 'the US'}, {'text': 'the United States'}],\n",
       "   'salienceLevel': 'mention'},\n",
       "  {'id': 'nlp/f/entity/wd:55223040',\n",
       "   'label': 'Alexandria Ocasio-Cortez',\n",
       "   'mentions': [{'text': 'Alexandria Ocasio-Cortez'}],\n",
       "   'salienceLevel': 'mention'},\n",
       "  {'id': 'nlp/f/entity/wd:1111367',\n",
       "   'label': 'Colorado School of Mines',\n",
       "   'mentions': [{'text': 'Mines'}],\n",
       "   'salienceLevel': 'mention'}],\n",
       " 'engagement': 252,\n",
       " 'webfeeds': {'relatedLayout': 'card',\n",
       "  'relatedTarget': 'browser',\n",
       "  'accentColor': '#0787b1',\n",
       "  'logo': 'http://storage.googleapis.com/test-site-assets/RUSFMaap2epUB1Hxr7coT6Cd7n5A3BtYAIay0ExHdcs_ologo-14d31722c5c',\n",
       "  'partial': True}}"
      ]
     },
     "execution_count": 47,
     "metadata": {},
     "output_type": "execute_result"
    }
   ],
   "source": [
    "articles[199].json"
   ]
  },
  {
   "cell_type": "code",
   "execution_count": 48,
   "metadata": {},
   "outputs": [
    {
     "name": "stdout",
     "output_type": "stream",
     "text": [
      "2) The other fields available are  ['id', 'keywords', 'originId', 'fingerprint', 'content', 'title', 'updated', 'crawled', 'published', 'canonical', 'origin', 'author', 'alternate', 'visual', 'unread', 'commonTopics', 'entities', 'engagement', 'webfeeds']\n"
     ]
    }
   ],
   "source": [
    "print(\"2) The other fields available are \",list(articles[199].json.keys()))"
   ]
  },
  {
   "cell_type": "code",
   "execution_count": 49,
   "metadata": {},
   "outputs": [],
   "source": [
    "columns = ['id','keywords','content','title','canonical','visual','commonTopics','engagement','published']\n",
    "l = len(columns)\n",
    "data = np.zeros((k,l),dtype = object)\n",
    "\n",
    "i=0\n",
    "for ar in articles :\n",
    "    for j in range(l):\n",
    "        try :\n",
    "            data[i,j] = ar.json[columns[j]]\n",
    "        except:\n",
    "            data[i,j] = 'impossible to get'\n",
    "    i+=1\n",
    "    "
   ]
  },
  {
   "cell_type": "markdown",
   "metadata": {},
   "source": [
    "### I just store the 500 artciles in an array and then in a pandas Dataframe"
   ]
  },
  {
   "cell_type": "code",
   "execution_count": 50,
   "metadata": {},
   "outputs": [
    {
     "data": {
      "text/html": [
       "<div>\n",
       "<style scoped>\n",
       "    .dataframe tbody tr th:only-of-type {\n",
       "        vertical-align: middle;\n",
       "    }\n",
       "\n",
       "    .dataframe tbody tr th {\n",
       "        vertical-align: top;\n",
       "    }\n",
       "\n",
       "    .dataframe thead th {\n",
       "        text-align: right;\n",
       "    }\n",
       "</style>\n",
       "<table border=\"1\" class=\"dataframe\">\n",
       "  <thead>\n",
       "    <tr style=\"text-align: right;\">\n",
       "      <th></th>\n",
       "      <th>id</th>\n",
       "      <th>keywords</th>\n",
       "      <th>content</th>\n",
       "      <th>title</th>\n",
       "      <th>canonical</th>\n",
       "      <th>visual</th>\n",
       "      <th>commonTopics</th>\n",
       "      <th>engagement</th>\n",
       "      <th>published</th>\n",
       "    </tr>\n",
       "  </thead>\n",
       "  <tbody>\n",
       "    <tr>\n",
       "      <th>0</th>\n",
       "      <td>RUSFMaap2epUB1Hxr7coT6Cd7n5A3BtYAIay0ExHdcs=_1...</td>\n",
       "      <td>[Technology, Talent management, Digital Article]</td>\n",
       "      <td>{'content': '&lt;p&gt;New devices offer less intrusi...</td>\n",
       "      <td>How Wearable AI Will Amplify Human Intelligence</td>\n",
       "      <td>[{'href': 'https://hbr.org/2019/04/how-wearabl...</td>\n",
       "      <td>{'edgeCacheUrl': 'https://lh3.googleuserconten...</td>\n",
       "      <td>[{'id': 'nlp/f/topic/2457', 'label': 'wearable...</td>\n",
       "      <td>6073</td>\n",
       "      <td>1556632812000</td>\n",
       "    </tr>\n",
       "    <tr>\n",
       "      <th>1</th>\n",
       "      <td>RUSFMaap2epUB1Hxr7coT6Cd7n5A3BtYAIay0ExHdcs=_1...</td>\n",
       "      <td>[Marketing, International business, Audio]</td>\n",
       "      <td>{'content': '&lt;p&gt;Kimberly Whitler, assistant pr...</td>\n",
       "      <td>How China Is Upending Western Marketing Practices</td>\n",
       "      <td>[{'href': 'https://hbr.org/ideacast/2019/04/ho...</td>\n",
       "      <td>{'edgeCacheUrl': 'https://lh3.googleuserconten...</td>\n",
       "      <td>[{'id': 'nlp/f/topic/741', 'label': 'education...</td>\n",
       "      <td>5757</td>\n",
       "      <td>1556631032000</td>\n",
       "    </tr>\n",
       "    <tr>\n",
       "      <th>2</th>\n",
       "      <td>RUSFMaap2epUB1Hxr7coT6Cd7n5A3BtYAIay0ExHdcs=_1...</td>\n",
       "      <td>[Internet, Regulation, Policy, Digital Article]</td>\n",
       "      <td>{'content': '&lt;p&gt;Digital infrastructure is best...</td>\n",
       "      <td>The U.S. Government Shouldn’t Run the Country’...</td>\n",
       "      <td>[{'href': 'https://hbr.org/2019/04/the-u-s-gov...</td>\n",
       "      <td>{'edgeCacheUrl': 'https://lh3.googleuserconten...</td>\n",
       "      <td>[{'id': 'nlp/f/topic/3044', 'label': 'telecoms...</td>\n",
       "      <td>5717</td>\n",
       "      <td>1556629207000</td>\n",
       "    </tr>\n",
       "    <tr>\n",
       "      <th>3</th>\n",
       "      <td>RUSFMaap2epUB1Hxr7coT6Cd7n5A3BtYAIay0ExHdcs=_1...</td>\n",
       "      <td>[Gender, Personnel policies, Digital Article]</td>\n",
       "      <td>{'content': '&lt;p&gt;Discrimination is widespread, ...</td>\n",
       "      <td>How Companies Can Support Breastfeeding Employees</td>\n",
       "      <td>[{'href': 'https://hbr.org/2019/04/how-compani...</td>\n",
       "      <td>{'edgeCacheUrl': 'https://lh3.googleuserconten...</td>\n",
       "      <td>[{'id': 'nlp/f/topic/1734', 'label': 'pharma'}...</td>\n",
       "      <td>5806</td>\n",
       "      <td>1556625959000</td>\n",
       "    </tr>\n",
       "    <tr>\n",
       "      <th>4</th>\n",
       "      <td>RUSFMaap2epUB1Hxr7coT6Cd7n5A3BtYAIay0ExHdcs=_1...</td>\n",
       "      <td>[Gender, Audio]</td>\n",
       "      <td>{'content': '&lt;p&gt;There are a lot of reasons wom...</td>\n",
       "      <td>The Upside of Working Motherhood</td>\n",
       "      <td>[{'href': 'https://hbr.org/podcast/2019/04/the...</td>\n",
       "      <td>{'edgeCacheUrl': 'https://lh3.googleuserconten...</td>\n",
       "      <td>[{'id': 'nlp/f/topic/741', 'label': 'education...</td>\n",
       "      <td>5525</td>\n",
       "      <td>1556552036000</td>\n",
       "    </tr>\n",
       "  </tbody>\n",
       "</table>\n",
       "</div>"
      ],
      "text/plain": [
       "                                                  id  \\\n",
       "0  RUSFMaap2epUB1Hxr7coT6Cd7n5A3BtYAIay0ExHdcs=_1...   \n",
       "1  RUSFMaap2epUB1Hxr7coT6Cd7n5A3BtYAIay0ExHdcs=_1...   \n",
       "2  RUSFMaap2epUB1Hxr7coT6Cd7n5A3BtYAIay0ExHdcs=_1...   \n",
       "3  RUSFMaap2epUB1Hxr7coT6Cd7n5A3BtYAIay0ExHdcs=_1...   \n",
       "4  RUSFMaap2epUB1Hxr7coT6Cd7n5A3BtYAIay0ExHdcs=_1...   \n",
       "\n",
       "                                           keywords  \\\n",
       "0  [Technology, Talent management, Digital Article]   \n",
       "1        [Marketing, International business, Audio]   \n",
       "2   [Internet, Regulation, Policy, Digital Article]   \n",
       "3     [Gender, Personnel policies, Digital Article]   \n",
       "4                                   [Gender, Audio]   \n",
       "\n",
       "                                             content  \\\n",
       "0  {'content': '<p>New devices offer less intrusi...   \n",
       "1  {'content': '<p>Kimberly Whitler, assistant pr...   \n",
       "2  {'content': '<p>Digital infrastructure is best...   \n",
       "3  {'content': '<p>Discrimination is widespread, ...   \n",
       "4  {'content': '<p>There are a lot of reasons wom...   \n",
       "\n",
       "                                               title  \\\n",
       "0    How Wearable AI Will Amplify Human Intelligence   \n",
       "1  How China Is Upending Western Marketing Practices   \n",
       "2  The U.S. Government Shouldn’t Run the Country’...   \n",
       "3  How Companies Can Support Breastfeeding Employees   \n",
       "4                   The Upside of Working Motherhood   \n",
       "\n",
       "                                           canonical  \\\n",
       "0  [{'href': 'https://hbr.org/2019/04/how-wearabl...   \n",
       "1  [{'href': 'https://hbr.org/ideacast/2019/04/ho...   \n",
       "2  [{'href': 'https://hbr.org/2019/04/the-u-s-gov...   \n",
       "3  [{'href': 'https://hbr.org/2019/04/how-compani...   \n",
       "4  [{'href': 'https://hbr.org/podcast/2019/04/the...   \n",
       "\n",
       "                                              visual  \\\n",
       "0  {'edgeCacheUrl': 'https://lh3.googleuserconten...   \n",
       "1  {'edgeCacheUrl': 'https://lh3.googleuserconten...   \n",
       "2  {'edgeCacheUrl': 'https://lh3.googleuserconten...   \n",
       "3  {'edgeCacheUrl': 'https://lh3.googleuserconten...   \n",
       "4  {'edgeCacheUrl': 'https://lh3.googleuserconten...   \n",
       "\n",
       "                                        commonTopics engagement      published  \n",
       "0  [{'id': 'nlp/f/topic/2457', 'label': 'wearable...       6073  1556632812000  \n",
       "1  [{'id': 'nlp/f/topic/741', 'label': 'education...       5757  1556631032000  \n",
       "2  [{'id': 'nlp/f/topic/3044', 'label': 'telecoms...       5717  1556629207000  \n",
       "3  [{'id': 'nlp/f/topic/1734', 'label': 'pharma'}...       5806  1556625959000  \n",
       "4  [{'id': 'nlp/f/topic/741', 'label': 'education...       5525  1556552036000  "
      ]
     },
     "execution_count": 50,
     "metadata": {},
     "output_type": "execute_result"
    }
   ],
   "source": [
    "df = pd.DataFrame(data,columns=columns)\n",
    "df.head()"
   ]
  },
  {
   "cell_type": "markdown",
   "metadata": {},
   "source": [
    "## 1.B. Retrieve complete articles"
   ]
  },
  {
   "cell_type": "code",
   "execution_count": 51,
   "metadata": {},
   "outputs": [],
   "source": [
    "def getArticleFromUrl(url):\n",
    "    r = requests.get(url)\n",
    "    html = r.content\n",
    "    pq = PyQuery(html)\n",
    "    tag = pq('div.article')\n",
    "    return(tag.text())"
   ]
  },
  {
   "cell_type": "markdown",
   "metadata": {},
   "source": [
    "### It's a function to get the complete article from href url given in the canonical field : I get the article with the request module and then I parse it with the PyQuery module (It's possible to parse it automatically because we retrieve the article from the same website HBR so the format is the same, i.e. the article content can always be found in the div with class name \"article\")\n"
   ]
  },
  {
   "cell_type": "code",
   "execution_count": 52,
   "metadata": {},
   "outputs": [
    {
     "name": "stderr",
     "output_type": "stream",
     "text": [
      "100%|██████████| 500/500 [04:31<00:00,  2.05it/s]\n"
     ]
    },
    {
     "data": {
      "text/plain": [
       "array(['RUSFMaap2epUB1Hxr7coT6Cd7n5A3BtYAIay0ExHdcs=_16a6e93984d:1be21b:26ccdcf8',\n",
       "       list(['Technology', 'Talent management', 'Digital Article']),\n",
       "       {'content': '<p>New devices offer less intrusive, more intuitive ways to make humans smarter.</p>\\n<div>\\n<a href=\"http://feeds.harvardbusiness.org/~ff/harvardbusiness?a=hFA_WRlQvtY:rM1LrBvMBxc:yIl2AUoC8zA\"><img border=\"0\" src=\"http://feeds.feedburner.com/~ff/harvardbusiness?d=yIl2AUoC8zA\"></a> <a href=\"http://feeds.harvardbusiness.org/~ff/harvardbusiness?a=hFA_WRlQvtY:rM1LrBvMBxc:bcOpcFrp8Mo\"><img border=\"0\" src=\"http://feeds.feedburner.com/~ff/harvardbusiness?d=bcOpcFrp8Mo\"></a>\\n</div><img width=\"1\" alt=\"\" src=\"http://feeds.feedburner.com/~r/harvardbusiness/~4/hFA_WRlQvtY\" height=\"1\">', 'direction': 'ltr'},\n",
       "       'How Wearable AI Will Amplify Human Intelligence',\n",
       "       list([{'href': 'https://hbr.org/2019/04/how-wearable-ai-will-amplify-human-intelligence', 'type': 'text/html'}]),\n",
       "       {'edgeCacheUrl': 'https://lh3.googleusercontent.com/1--7ccBlv5ApolSstmrrbUmJT23MfaaiYb8Y3lLE0cTmAKmim3kIL6S6XUBJkU7LvQKO5TMvaQLt7cC6MYMLAEMM1w', 'processor': 'feedly-nikon-v3.1', 'url': 'https://hbr.org/resources/images/article_assets/2019/04/Apr19_30_922804454.jpg', 'width': 1200, 'height': 675, 'expirationDate': 1559225331941, 'contentType': 'image/jpeg; charset=UTF-8'},\n",
       "       list([{'id': 'nlp/f/topic/2457', 'label': 'wearables'}, {'id': 'nlp/f/topic/1408', 'label': 'market research'}, {'id': 'nlp/f/topic/253', 'label': 'big data'}, {'id': 'nlp/f/topic/1660', 'label': 'osint'}, {'id': 'nlp/f/topic/2044', 'label': 'semiconductor'}, {'id': 'nlp/f/topic/936', 'label': 'future of work'}, {'id': 'nlp/f/topic/2390', 'label': 'ux'}, {'id': 'nlp/f/topic/1197', 'label': 'iot'}]),\n",
       "       6073, 1556632812000,\n",
       "       'Tara Moore/Getty Images\\nImagine that your team is meeting to decide whether to continue an expensive marketing campaign. After a few minutes, it becomes clear that nobody has the metrics on-hand to make the decision. You chime in with a solution and ask Amazon’s virtual assistant Alexa to back you up with information: “Alexa, how many users did we convert to customers last month with Campaign A?” and Alexa responds with the answer. You just amplified your team’s intelligence with AI. But this is just the tip of the iceberg.\\nIntelligence amplification is the use of technology to augment human intelligence. And a paradigm shift is on the horizon, where new devices will offer less intrusive, more intuitive ways to amplify our intelligence.\\nHearables, or wireless in-ear computational earpieces, are an example of intelligence amplification devices that have been adopted recently and rapidly. An example is Apple’s AirPods, which are smart earbuds that connect to Apple devices and integrate with Siri via voice commands. Apple has also filed a patent for earbuds equipped with biometric sensors that could record data such as a user’s temperature, heart rate, and movement. Similarly, Google’s Pixel Buds give users direct access to the Google Assistant and its powerful knowledge graph. Google Assistant seamlessly connects users to information stored in Google platforms, like email and calendar management. Google Assistant also provides users with highly-personalized recommendations, helps automate personal communication, and offloads monotonous tasks like setting timers, managing lists, and controlling IoT devices.\\nInsight Center\\nInteracting with AI\\nSponsored by Qlik\\nHow humans and machines will work together.\\nWhile technology on the market today affords humans a multitude of capabilities unavailable to them even just a decade ago, there is still an opportunity for improvement and refinement. The power and prevalence of smartphones allows humans to easily amplify intelligence, but the use of these devices is often obtrusive. It’s all too common to see people in public completely absorbed with the little screens in their hands rather than their surroundings, or to have social situations interrupted by someone pulling out their smartphone to check a notification or complete a search. Hearables, along with other voice-enabled devices, allow users to seek information and complete tasks without a screen interface, but they are inherently less discreet than smartphones. Users must speak their questions and commands aloud, which may not be desirable or possible in certain situations. This lack of discretion diminishes the impact of the voice-enabled intelligence amplifying interfaces as it limits the contexts in which they can be used.\\nThe need for an intelligence-amplifying device that is less obtrusive than a smartphone and more discreet than a voice interface is clear. Many technologists and entrepreneurs are working to create the next revolutionary intelligence-amplifying device that will solve the problems of its predecessors while giving users seamless access to advanced AI systems.\\nThe Next Generation of Intelligence Amplification\\nWe’re quickly moving toward a world where AI will more seamlessly help to power our human intelligence and interactions.\\nConsider AlterEgo, a project originating from the MIT Media Lab — an intelligence amplification device that uses silent speech recognition, also known as internal articulation, to measure the electrical signals the brain sends to the internal speech organs. AlterEgo is a non-invasive device that’s worn over the ear and along the jawline. The signals it measures are part of the voluntary nervous system, meaning users must intentionally think of speaking words to trigger the device — a feature that sets it apart from other brain-computer interfaces (BCI) that are capable of receiving signals directly from the brain. The AlterEgo device translates these silent user signals into commands to control other systems, such as IoT devices, and query information, say from a Google search. A user controls the device without opening their mouth, and without any externally observable movements. They simply have to think about the words they would have asked Siri or a smart speaker out loud. Information is then relayed back to the user through audio. (AlterEgo uses bone-conduction audio to respond back to users, which completes the discreet information loop silently.) The entire interaction is completely internal to the user — almost like speaking to oneself. AlterEgo’s creators hope that this silent information loop will make people’s interactions with the technology both unobtrusive and discreet.\\nArnav Kapur, a PhD student at MIT who leads the AlterEgo project, described their vision in a recent interview: “Speaking is not private, but you are in total control of it. Thinking is completely private, but sometimes you’re not in control of all your thoughts. We’re trying to make something that’s right in between those two ends of the spectrum, but that brings the best of both worlds.”\\nIt’s clear that Kapur and the rest of the AlterEgo team are driven to give users a positive experience by balancing the AI’s intimate access to the user with discretion, and the user’s ultimate control of their sensitive data. Kapur adds, “We thought a lot about what the ethical issues are with this technology being used in the wild; the user is in control of the technology at all times and the technology is not intrusive. Privacy is not an afterthought.”\\nAugmented reality devices represent another interesting foray into modern intelligence amplification. Google Glass, smart eyewear that failed in the consumer market, is now being used in enterprise and industrial applications. For example, employers such as GE are implementing smart-eyewear technology to increase the efficiency of their warehouse and manufacturing workers. Technicians at GE were able to use guided instructions overlayed on their field of view to increase their productivity and reduce errors while servicing or repairing manufacturing equipment.\\ngoogletag.cmd.push(function() { googletag.display(\"DFP_IC_pos3\"); });\\nThere is also an opportunity to leverage the user data that these new devices capture to create highly-personalized experiences. Pattie Maes, MIT professor and advisor to AlterEgo, says, “Systems that have an awareness of the user — their [mental and emotional] state, their intentions — will ultimately be less intrusive and more useful, because they can customize the information that is being provided to the situation at hand.” Much of the industry is already thinking about how the insights extrapolated by AI will be used by the companies building intelligence amplifying devices. Futurist Amy Webb warns of large companies like Amazon being able to wield deeper influence over their customers, such as selling medicine to customers they believe are ill or depressed.\\nPreparing for the Next Era of Personal Computing\\nThere is an immense opportunity for business leaders to capitalize on intelligence-amplifying technology. Each new device further reduces the barriers between an individual’s and an organization’s knowledge, and provides a new platform on which businesses can build applications to connect with customers, employees, and partners. Intelligence-amplifying devices will be the primary means by which individuals interact with the world, so business leaders and stakeholders should plan for how their organization will embrace the coming changes in personal computing.\\nDesigning and developing experiences for intelligence-amplifying devices will require new technical skills and more collaboration across disciplines. Data scientists, researchers, designers, and engineers will all need to understand the technology powering intelligence-amplifying devices in order to create innovative and useful applications that appropriately leverage AI.\\nAs consumers and employees integrate more of their lives into the digital space with new intelligence-amplifying devices, organizations must consider and address issues of data transparency, privacy, and autonomy. These themes are already at the forefront of user awareness and concern in the wake of the many high-profile data breaches over the past few years. Consumers are rightfully wary of handing over their data to big businesses who may use it to manipulate consumers or sell it to other businesses with that intention. As more personal data is captured with these devices, and as AI is able to extrapolate more details about consumers, everyone is more vulnerable. Businesses should focus on building trust with consumers by being transparent with their data practices and prioritizing privacy and autonomy when developing and implementing more personalized, intelligence-amplifying technologies.\\nMany businesses are already augmenting their workforce with AI in the areas of communication, sales, support, and decision-making. Some experts believe that intelligence amplification could be an antidote to automation-related job loss by making augmented humans indispensable. Because intelligence amplification builds upon existing human intelligence and all that it encompasses, it can be seen as more powerful than AI alone. It’s time for business leaders and stakeholders to consider how to successfully embrace this new era of personal computing.'],\n",
       "      dtype=object)"
      ]
     },
     "execution_count": 52,
     "metadata": {},
     "output_type": "execute_result"
    }
   ],
   "source": [
    "j = 4 \n",
    "articlesContent = np.zeros((k,1),dtype = object)\n",
    "\n",
    "for i in tqdm(range(k)):\n",
    "    url = data[i,j][0]['href']\n",
    "    articlesContent[i,0] = getArticleFromUrl(url)\n",
    "\n",
    "data = np.concatenate((data,articlesContent),axis = 1)\n",
    "columns += ['content']\n",
    "df = pd.DataFrame(data,columns=columns)\n",
    "data[0,:]"
   ]
  },
  {
   "cell_type": "markdown",
   "metadata": {},
   "source": [
    "## 1.C. First processing of the data"
   ]
  },
  {
   "cell_type": "code",
   "execution_count": 53,
   "metadata": {},
   "outputs": [],
   "source": [
    "from gensim.parsing.preprocessing import preprocess_string,strip_multiple_whitespaces,strip_punctuation, strip_non_alphanum\n",
    "\n",
    "filters = [strip_punctuation,strip_multiple_whitespaces,strip_non_alphanum]\n",
    "\n",
    "firstTreatment = []\n",
    "\n",
    "for i in range(k):\n",
    "    firstTreatment.append(preprocess_string(data[i,-1],filters))"
   ]
  },
  {
   "cell_type": "markdown",
   "metadata": {},
   "source": [
    "### We transform the raw article in a list of tokens and apply some filters to retrieve punctuation, non alphanumerical characters and multiple whitespaces"
   ]
  },
  {
   "cell_type": "code",
   "execution_count": 54,
   "metadata": {},
   "outputs": [
    {
     "name": "stdout",
     "output_type": "stream",
     "text": [
      "3) The ratio of the capitalized word to non­capitalized words is  10.59 %\n"
     ]
    }
   ],
   "source": [
    "compteur = 0\n",
    "upper = 0\n",
    "for i in range(k):\n",
    "    for word in firstTreatment[i]:\n",
    "        if word[0].isupper():\n",
    "            upper+=1\n",
    "        compteur+=1\n",
    "\n",
    "print(\"3) The ratio of the capitalized word to non­capitalized words is \",int(upper/compteur*10000)/100,\"%\")"
   ]
  },
  {
   "cell_type": "code",
   "execution_count": 55,
   "metadata": {},
   "outputs": [],
   "source": [
    "number = re.compile('\\d+')\n",
    "for i in range(k):\n",
    "    for j in range(len(firstTreatment[i])):\n",
    "        word = firstTreatment[i][j]\n",
    "        firstTreatment[i][j] = number.sub('isanumber', word).lower()"
   ]
  },
  {
   "cell_type": "markdown",
   "metadata": {},
   "source": [
    "### Maybe the number 50 is not important to know if an article is about leadership but maybe the fact that an article contains a certain amount of number in it can be meaningful, so we will just transform every number in the string \"isanumber\" to reduce the vocabulary while keeping useful information"
   ]
  },
  {
   "cell_type": "code",
   "execution_count": 56,
   "metadata": {},
   "outputs": [],
   "source": [
    "data = np.concatenate((data,np.reshape(firstTreatment,(k,1))),axis = 1)\n",
    "columns += ['tokens']\n",
    "df = pd.DataFrame(data,columns=columns)\n",
    "#df.head()"
   ]
  },
  {
   "cell_type": "code",
   "execution_count": 57,
   "metadata": {},
   "outputs": [
    {
     "name": "stdout",
     "output_type": "stream",
     "text": [
      "['tara', 'moore', 'getty', 'images', 'imagine', 'that', 'your', 'team', 'is', 'meeting', 'to', 'decide', 'whether', 'to', 'continue', 'an', 'expensive', 'marketing', 'campaign', 'after', 'a', 'few', 'minutes', 'it', 'becomes', 'clear', 'that', 'nobody', 'has', 'the', 'metrics', 'on', 'hand', 'to', 'make', 'the', 'decision', 'you', 'chime', 'in', 'with', 'a', 'solution', 'and', 'ask', 'amazon', 's', 'virtual', 'assistant', 'alexa', 'to', 'back', 'you', 'up', 'with', 'information', 'alexa', 'how', 'many', 'users', 'did', 'we', 'convert', 'to', 'customers', 'last', 'month', 'with', 'campaign', 'a', 'and', 'alexa', 'responds', 'with', 'the', 'answer', 'you', 'just', 'amplified', 'your', 'team', 's', 'intelligence', 'with', 'ai', 'but', 'this', 'is', 'just', 'the', 'tip', 'of', 'the', 'iceberg', 'intelligence', 'amplification', 'is', 'the', 'use', 'of']\n"
     ]
    }
   ],
   "source": [
    "print(data[0,-1][:100])"
   ]
  },
  {
   "cell_type": "code",
   "execution_count": 58,
   "metadata": {},
   "outputs": [],
   "source": [
    "d = Dictionary(firstTreatment)"
   ]
  },
  {
   "cell_type": "code",
   "execution_count": 59,
   "metadata": {},
   "outputs": [
    {
     "name": "stdout",
     "output_type": "stream",
     "text": [
      "With that first preprocessing we get 20773 words in the vocabulary\n"
     ]
    }
   ],
   "source": [
    "print(\"With that first preprocessing we get \"+str(len(d))+\" words in the vocabulary\")"
   ]
  },
  {
   "cell_type": "code",
   "execution_count": 60,
   "metadata": {},
   "outputs": [
    {
     "data": {
      "text/plain": [
       "41.546"
      ]
     },
     "execution_count": 60,
     "metadata": {},
     "output_type": "execute_result"
    }
   ],
   "source": [
    "len(d)/500"
   ]
  },
  {
   "cell_type": "markdown",
   "metadata": {},
   "source": [
    "## 1.D. Other preprocessing step to reduce the number of words by using stemming"
   ]
  },
  {
   "cell_type": "code",
   "execution_count": 61,
   "metadata": {},
   "outputs": [],
   "source": [
    "from gensim.parsing.preprocessing import stem_text\n",
    "\n",
    "filters = [stem_text]\n",
    "\n",
    "secondTreatment = []\n",
    "\n",
    "for i in range(k):\n",
    "    secondTreatment.append([])\n",
    "    for word in firstTreatment[i]:\n",
    "        secondTreatment[i].append(preprocess_string(word,filters)[0])"
   ]
  },
  {
   "cell_type": "code",
   "execution_count": 62,
   "metadata": {},
   "outputs": [
    {
     "name": "stdout",
     "output_type": "stream",
     "text": [
      "['tara', 'moor', 'getti', 'imag', 'imagin', 'that', 'your', 'team', 'is', 'meet', 'to', 'decid', 'whether', 'to', 'continu', 'an', 'expens', 'market', 'campaign', 'after', 'a', 'few', 'minut', 'it', 'becom', 'clear', 'that', 'nobodi', 'ha', 'the', 'metric', 'on', 'hand', 'to', 'make', 'the', 'decis', 'you', 'chime', 'in', 'with', 'a', 'solut', 'and', 'ask', 'amazon', 's', 'virtual', 'assist', 'alexa', 'to', 'back', 'you', 'up', 'with', 'inform', 'alexa', 'how', 'mani', 'user', 'did', 'we', 'convert', 'to', 'custom', 'last', 'month', 'with', 'campaign', 'a', 'and', 'alexa', 'respond', 'with', 'the', 'answer', 'you', 'just', 'amplifi', 'your', 'team', 's', 'intellig', 'with', 'ai', 'but', 'thi', 'is', 'just', 'the', 'tip', 'of', 'the', 'iceberg', 'intellig', 'amplif', 'is', 'the', 'us', 'of']\n"
     ]
    }
   ],
   "source": [
    "print(secondTreatment[0][:100])"
   ]
  },
  {
   "cell_type": "code",
   "execution_count": 63,
   "metadata": {},
   "outputs": [],
   "source": [
    "d2 = Dictionary(secondTreatment)"
   ]
  },
  {
   "cell_type": "code",
   "execution_count": 64,
   "metadata": {},
   "outputs": [
    {
     "name": "stdout",
     "output_type": "stream",
     "text": [
      "We now get a vocabulary of size  12541\n"
     ]
    }
   ],
   "source": [
    "print(\"We now get a vocabulary of size \",len(d2))"
   ]
  },
  {
   "cell_type": "markdown",
   "metadata": {},
   "source": [
    "### We divided the vocabulary size by almsot 2"
   ]
  },
  {
   "cell_type": "code",
   "execution_count": 65,
   "metadata": {},
   "outputs": [],
   "source": [
    "data = np.concatenate((data,np.reshape(secondTreatment,(k,1))),axis = 1)"
   ]
  },
  {
   "cell_type": "code",
   "execution_count": 66,
   "metadata": {},
   "outputs": [
    {
     "name": "stdout",
     "output_type": "stream",
     "text": [
      "136\n",
      "142\n",
      "144\n",
      "154\n"
     ]
    }
   ],
   "source": [
    "for i in range(k):\n",
    "    \n",
    "    if(data[i,-3]==\"\"):\n",
    "        print(i)\n",
    "        data[i,0] = \"toDelete\""
   ]
  },
  {
   "cell_type": "code",
   "execution_count": 67,
   "metadata": {},
   "outputs": [],
   "source": [
    "data = data[~(data[:,0]==\"toDelete\")]\n",
    "k = len(data)"
   ]
  },
  {
   "cell_type": "markdown",
   "metadata": {},
   "source": [
    "### After passing threw the Dataframe list of tokens were converted into string so we had to reverse tranform"
   ]
  },
  {
   "cell_type": "code",
   "execution_count": 68,
   "metadata": {},
   "outputs": [],
   "source": [
    "columns += ['tokensWithStemming']\n",
    "df = pd.DataFrame(data,columns=columns)\n",
    "df.to_csv('dataBase.csv')"
   ]
  },
  {
   "cell_type": "markdown",
   "metadata": {},
   "source": [
    "## 1.E. Analyse words frequency"
   ]
  },
  {
   "cell_type": "code",
   "execution_count": 69,
   "metadata": {},
   "outputs": [],
   "source": [
    "df = pd.read_csv('dataBase.csv')\n",
    "del(df['Unnamed: 0'])\n",
    "tab = np.array(df,dtype=object)"
   ]
  },
  {
   "cell_type": "code",
   "execution_count": 70,
   "metadata": {},
   "outputs": [],
   "source": [
    "def stringToList(s):\n",
    "    l = s.split(\"', '\")\n",
    "    l[0] = l[0][2:]\n",
    "    l[-1] = l[-1][:-2]\n",
    "    return(l)"
   ]
  },
  {
   "cell_type": "code",
   "execution_count": 71,
   "metadata": {},
   "outputs": [],
   "source": [
    "for i in range(k):\n",
    "    tab[i,-1] = stringToList(tab[i,-1])\n",
    "    tab[i,-2] = stringToList(tab[i,-2])"
   ]
  },
  {
   "cell_type": "markdown",
   "metadata": {},
   "source": [
    "### We just remove rows with no complete articles (probably the http request which failed at the beginning)"
   ]
  },
  {
   "cell_type": "code",
   "execution_count": 72,
   "metadata": {},
   "outputs": [],
   "source": [
    "frequency = {}\n",
    "vocab = list(d.values())\n",
    "for word in vocab:\n",
    "    frequency[word] = 0\n",
    "for i in range(k):\n",
    "    for word in tab[i,-2]:\n",
    "        frequency[word]+=1"
   ]
  },
  {
   "cell_type": "code",
   "execution_count": 73,
   "metadata": {},
   "outputs": [],
   "source": [
    "frequencies = sorted(frequency.items(), key=lambda x: x[1],reverse = True)"
   ]
  },
  {
   "cell_type": "code",
   "execution_count": 74,
   "metadata": {},
   "outputs": [
    {
     "data": {
      "text/plain": [
       "[('the', 29947),\n",
       " ('to', 25436),\n",
       " ('and', 22413),\n",
       " ('of', 17561),\n",
       " ('a', 16258),\n",
       " ('that', 13931),\n",
       " ('in', 12169),\n",
       " ('you', 9351),\n",
       " ('is', 8032),\n",
       " ('s', 7871),\n",
       " ('it', 7834),\n",
       " ('i', 7512),\n",
       " ('for', 7297),\n",
       " ('with', 5251),\n",
       " ('they', 5157),\n",
       " ('are', 5136),\n",
       " ('we', 5111),\n",
       " ('isanumber', 5028),\n",
       " ('this', 4782),\n",
       " ('on', 4781)]"
      ]
     },
     "execution_count": 74,
     "metadata": {},
     "output_type": "execute_result"
    }
   ],
   "source": [
    "frequencies[:20]"
   ]
  },
  {
   "cell_type": "markdown",
   "metadata": {},
   "source": [
    "### We only get stopwords among the most frequent words... so we are going to remove them to get better insights"
   ]
  },
  {
   "cell_type": "code",
   "execution_count": 75,
   "metadata": {},
   "outputs": [],
   "source": [
    "from gensim.parsing.preprocessing import remove_stopwords\n",
    "importantWords = []\n",
    "for i in range(300):\n",
    "    word = frequencies[i][0]\n",
    "    if(remove_stopwords(word) and len(word)>2):\n",
    "        importantWords.append(word)"
   ]
  },
  {
   "cell_type": "code",
   "execution_count": 76,
   "metadata": {},
   "outputs": [
    {
     "name": "stdout",
     "output_type": "stream",
     "text": [
      "['isanumber', 'people', 'work', 'time', 'like', 'think', 'new', 'know', 'business', 'company', 'companies', 'data', 'team', 'need', 'way', 'want', 'women', 'going', 'employees', 'help', 'things', 'right', 'job', 'leaders', 'good', 'better', 'googletag', 'research', 'organization', 'feel', 'important', 'different', 'example', 'use', 'working', 'years', 'alison', 'change', 'performance', 'best', 'managers', 'person', 'lot', 'actually', 'kind', 'value', 'day', 'long', 'likely', 'beard', 'making', 'organizations', 'problem', 'said', 'high', 'management', 'customers', 'experience', 'world', 'ask', 'life', 'market', 'push', 'thing', 'look', 'information', 'sales', 'great', 'year', 'care', 'function', 'start', 'having', 'process', 'little', 'ways', 'boss', 'technology', 'says', 'come', 'strategy', 'hbr', 'point', 'create', 'images', 'based', 'learning', 'let', 'digital', 'firms', 'product', 'employee', 'big', 'questions', 'manager', 'amy', 'role', 'able', 'question', 'dan', 'teams', 'leadership', 'getty', 'career', 'display', 'today', 'understand', 'level', 'cmd', 'dfp', 'posisanumber', 'support', 'curt', 'future', 'try', 'yeah', 'case', 'talk', 'focus', 'feedback', 'thinking', 'nickisch', 'needs', 'innovation', 'health', 'customer', 'hard', 'study', 'term', 'industry', 'share', 'social', 'group', 'impact', 'decision', 'home', 'mean', 'ideas', 'self', 'set', 'getting', 'maybe']\n"
     ]
    }
   ],
   "source": [
    "print(importantWords)"
   ]
  },
  {
   "cell_type": "code",
   "execution_count": 77,
   "metadata": {},
   "outputs": [
    {
     "name": "stdout",
     "output_type": "stream",
     "text": [
      "True\n",
      "False\n",
      "False\n"
     ]
    }
   ],
   "source": [
    "print('leadership' in importantWords)\n",
    "print('leader' in importantWords)\n",
    "print('lead' in importantWords)"
   ]
  },
  {
   "cell_type": "markdown",
   "metadata": {},
   "source": [
    "# 2. Create rule-based models"
   ]
  },
  {
   "cell_type": "code",
   "execution_count": 78,
   "metadata": {},
   "outputs": [],
   "source": [
    "df = pd.read_csv('dataBase.csv')\n",
    "del(df['Unnamed: 0'])\n",
    "data = np.array(df)\n",
    "columns = list(df.columns)"
   ]
  },
  {
   "cell_type": "code",
   "execution_count": 79,
   "metadata": {},
   "outputs": [],
   "source": [
    "jtitle = columns.index(\"title\")\n",
    "def model1(document):\n",
    "    return ('leadership'in document[jtitle].lower())"
   ]
  },
  {
   "cell_type": "code",
   "execution_count": 90,
   "metadata": {},
   "outputs": [],
   "source": [
    "jtokens = columns.index(\"tokens\")\n",
    "def model2(document):\n",
    "    return('leadership' in document[jtokens])"
   ]
  },
  {
   "cell_type": "code",
   "execution_count": 81,
   "metadata": {},
   "outputs": [],
   "source": [
    "model = gensim.models.KeyedVectors.load_word2vec_format('lexvec.enwiki+newscrawl.300d.W.pos.vectors', binary=False)  "
   ]
  },
  {
   "cell_type": "markdown",
   "metadata": {},
   "source": [
    "### To execute this cell you will have to got to https://github.com/alexandres/lexvec#pre-trained-vectors and download the vectors of size 398 MB"
   ]
  },
  {
   "cell_type": "code",
   "execution_count": 82,
   "metadata": {},
   "outputs": [
    {
     "name": "stdout",
     "output_type": "stream",
     "text": [
      "[('frontbench', 0.540550947189331), ('leaders', 0.5190237164497375), ('leaderships', 0.4795929491519928), ('competence', 0.4795462191104889), ('governance', 0.47358646988868713), ('organizational', 0.4725119173526764), ('grassroots', 0.4708701968193054), ('party', 0.4704243838787079), ('unity', 0.4684489965438843), ('chairmanship', 0.46583208441734314)]\n"
     ]
    }
   ],
   "source": [
    "print(model.most_similar(positive=['leadership'],topn=10))"
   ]
  },
  {
   "cell_type": "markdown",
   "metadata": {},
   "source": [
    "### In wikidpedia leadership appears in the same context as these words so we're going to try to include some of them in the rules"
   ]
  },
  {
   "cell_type": "code",
   "execution_count": 83,
   "metadata": {},
   "outputs": [],
   "source": [
    "def model3(document):\n",
    "    counter = 0\n",
    "    words = ['leadership','frontbench','leaders','leaderships','grassroots']\n",
    "    for word in words:\n",
    "        if((word in document[jtokens]) or (word in document[jtitle].lower())):\n",
    "            counter +=1\n",
    "    return counter>1"
   ]
  },
  {
   "cell_type": "markdown",
   "metadata": {},
   "source": [
    "# 3. Build the gold dataset"
   ]
  },
  {
   "cell_type": "code",
   "execution_count": 84,
   "metadata": {},
   "outputs": [],
   "source": [
    "df = pd.read_csv('dataBase.csv')\n",
    "del(df['Unnamed: 0'])\n",
    "data = np.array(df)\n",
    "columns = list(df.columns)"
   ]
  },
  {
   "cell_type": "code",
   "execution_count": 102,
   "metadata": {},
   "outputs": [],
   "source": [
    "classe = np.zeros((k,1))\n",
    "jkeywords = columns.index(\"keywords\")\n",
    "jtopics = columns.index(\"commonTopics\")\n",
    "for i in range(k):\n",
    "    if('leadership' in data[i,jkeywords].lower()):\n",
    "        classe[i]=1       \n",
    "    if('leadership' in data[i,jtopics].lower()):\n",
    "        classe[i]=1\n",
    "        \n",
    "dfclasse = pd.DataFrame(classe)\n",
    "dfclasse.to_csv('classe.csv')"
   ]
  },
  {
   "cell_type": "markdown",
   "metadata": {},
   "source": [
    "### There are 2 fields keywords and commonTopics which could correspond to \"tags\" so we will use both"
   ]
  },
  {
   "cell_type": "code",
   "execution_count": 86,
   "metadata": {},
   "outputs": [
    {
     "data": {
      "text/plain": [
       "0.24798387096774194"
      ]
     },
     "execution_count": 86,
     "metadata": {},
     "output_type": "execute_result"
    }
   ],
   "source": [
    "np.mean(classe)"
   ]
  },
  {
   "cell_type": "markdown",
   "metadata": {},
   "source": [
    "### The dataset is unbalanced, only 1/4 of the articles seems to be about leadership"
   ]
  },
  {
   "cell_type": "markdown",
   "metadata": {},
   "source": [
    "# 4. Evaluation"
   ]
  },
  {
   "cell_type": "code",
   "execution_count": 103,
   "metadata": {},
   "outputs": [],
   "source": [
    "df = pd.read_csv('dataBase.csv')\n",
    "del(df['Unnamed: 0'])\n",
    "dfclasse = pd.read_csv('classe.csv')\n",
    "del(dfclasse['Unnamed: 0'])\n",
    "data = np.array(df)\n",
    "classe = np.array(dfclasse)\n",
    "columns = list(df.columns)\n",
    "for i in range(k):\n",
    "    data[i,-1] = stringToList(data[i,-1])\n",
    "    data[i,-2] = stringToList(data[i,-2])"
   ]
  },
  {
   "cell_type": "code",
   "execution_count": 104,
   "metadata": {},
   "outputs": [],
   "source": [
    "def predict(x,model):\n",
    "    n,l = x.shape\n",
    "    predictions = []\n",
    "    for i in range(n):\n",
    "        predictions.append(model(x[i,:]))\n",
    "    return(predictions)\n",
    "    "
   ]
  },
  {
   "cell_type": "markdown",
   "metadata": {},
   "source": [
    "### That's just a function which returns the predictions of model on dataset x"
   ]
  },
  {
   "cell_type": "code",
   "execution_count": 105,
   "metadata": {},
   "outputs": [
    {
     "name": "stdout",
     "output_type": "stream",
     "text": [
      "--\n",
      "precision of model 1 : 74.59189646201874\n",
      "mean of predicted values : 0.012096774193548387\n",
      "--\n",
      "precision of model 2 : 60.97489594172737\n",
      "mean of predicted values : 0.28225806451612906\n",
      "--\n",
      "precision of model 3 : 64.22671696149844\n",
      "mean of predicted values : 0.21774193548387097\n"
     ]
    }
   ],
   "source": [
    "def evaluateModels(data,classe):\n",
    "    models = [model1,model2,model3]\n",
    "    for i in range(3):\n",
    "        ypredict = predict(data,models[i])\n",
    "        print('--')\n",
    "        print(\"precision of model \"+str(i+1)+\" :\", (1-np.mean(abs(ypredict-classe)))*100)\n",
    "        print(\"mean of predicted values :\",np.mean(ypredict) )\n",
    "\n",
    "evaluateModels(data,classe)"
   ]
  },
  {
   "cell_type": "markdown",
   "metadata": {},
   "source": [
    "### Model 1 seems to be better in term of precision biut that's only because the dataset is unbalanced and this model almost never predict class 1 \n",
    "### Let's see what happends if we convert the datasete in a balanced one by deleting some class 0 sample for example"
   ]
  },
  {
   "cell_type": "code",
   "execution_count": 106,
   "metadata": {},
   "outputs": [],
   "source": [
    "import random as rd\n",
    "for i in range(k):\n",
    "    if(not classe[i]):\n",
    "        if(rd.random()>0.33):\n",
    "            data[i,0]='toDelete'\n",
    "            classe[i]=-1\n",
    "\n",
    "balancedData = data[~(data[:,0] == 'toDelete')]      \n",
    "balancedClasse = classe[~(classe[:]==-1)]\n",
    "\n"
   ]
  },
  {
   "cell_type": "code",
   "execution_count": 107,
   "metadata": {},
   "outputs": [
    {
     "data": {
      "text/plain": [
       "0.4939759036144578"
      ]
     },
     "execution_count": 107,
     "metadata": {},
     "output_type": "execute_result"
    }
   ],
   "source": [
    "np.mean(balancedClasse)"
   ]
  },
  {
   "cell_type": "code",
   "execution_count": 108,
   "metadata": {},
   "outputs": [
    {
     "name": "stdout",
     "output_type": "stream",
     "text": [
      "--\n",
      "precision of model 1 : 53.012048192771076\n",
      "mean of predicted values : 0.024096385542168676\n",
      "--\n",
      "precision of model 2 : 67.06827309236948\n",
      "mean of predicted values : 0.3413654618473896\n",
      "--\n",
      "precision of model 3 : 66.26506024096386\n",
      "mean of predicted values : 0.285140562248996\n"
     ]
    }
   ],
   "source": [
    "evaluateModels(balancedData,balancedClasse)"
   ]
  },
  {
   "cell_type": "markdown",
   "metadata": {},
   "source": [
    "### Now the best models seem to be the models based on the body of the article\n",
    "### So we can't conclude wich model is better, it actually depends on what is the metric considered which depends on the goal of the model / how we would use the model, they all have different false positive rate/ true positive rate/ false negative rate/ and so on"
   ]
  },
  {
   "cell_type": "markdown",
   "metadata": {},
   "source": [
    "# 5. TFIDF - LR"
   ]
  },
  {
   "cell_type": "markdown",
   "metadata": {},
   "source": [
    "## 5.A. Vectorization"
   ]
  },
  {
   "cell_type": "code",
   "execution_count": 322,
   "metadata": {},
   "outputs": [],
   "source": [
    "df = pd.read_csv('dataBase.csv')\n",
    "del(df['Unnamed: 0'])\n",
    "dfclasse = pd.read_csv('classe.csv')\n",
    "del(dfclasse['Unnamed: 0'])\n",
    "data = np.array(df)\n",
    "classe = np.array(dfclasse)\n",
    "columns = list(df.columns)\n",
    "for i in range(k):\n",
    "    data[i,-1] = stringToList(data[i,-1])\n",
    "    data[i,-2] = stringToList(data[i,-2])"
   ]
  },
  {
   "cell_type": "code",
   "execution_count": 323,
   "metadata": {},
   "outputs": [],
   "source": [
    "from sklearn.feature_extraction.text import TfidfVectorizer\n",
    "\n",
    "X = []\n",
    "for i in range(k):\n",
    "    X.append(' '.join(data[i,-1]))\n",
    "\n",
    "vectorizer = TfidfVectorizer(max_df=0.7,min_df=0.01)\n",
    "X = vectorizer.fit_transform(X)"
   ]
  },
  {
   "cell_type": "markdown",
   "metadata": {},
   "source": [
    "### We use the tfidf vectorizer of sklearn and store the vectors in X"
   ]
  },
  {
   "cell_type": "code",
   "execution_count": 324,
   "metadata": {},
   "outputs": [
    {
     "data": {
      "text/plain": [
       "(496, 4337)"
      ]
     },
     "execution_count": 324,
     "metadata": {},
     "output_type": "execute_result"
    }
   ],
   "source": [
    "X.shape"
   ]
  },
  {
   "cell_type": "markdown",
   "metadata": {},
   "source": [
    "## 5.B. Dimensionality reduction"
   ]
  },
  {
   "cell_type": "code",
   "execution_count": 325,
   "metadata": {},
   "outputs": [
    {
     "name": "stdout",
     "output_type": "stream",
     "text": [
      "496\n"
     ]
    }
   ],
   "source": [
    "from sklearn.decomposition import TruncatedSVD\n",
    "\n",
    "tsvd = TruncatedSVD(n_components = 496)\n",
    "X2 = tsvd.fit_transform(X)\n",
    "print(len(tsvd.explained_variance_))"
   ]
  },
  {
   "cell_type": "code",
   "execution_count": 326,
   "metadata": {},
   "outputs": [],
   "source": [
    "X = X.todense()"
   ]
  },
  {
   "cell_type": "code",
   "execution_count": 327,
   "metadata": {},
   "outputs": [],
   "source": [
    "from sklearn.decomposition import PCA\n",
    "n,l = X.shape\n",
    "pca = PCA(n_components=496)\n",
    "pca.fit(X)\n",
    "variances = pca.explained_variance_ratio_\n",
    "variancesSum = [np.sum(variances[:i]) for i in range(500)]"
   ]
  },
  {
   "cell_type": "code",
   "execution_count": 328,
   "metadata": {},
   "outputs": [
    {
     "data": {
      "image/png": "[encoded data removed]",
      "text/plain": [
       "<Figure size 432x288 with 1 Axes>"
      ]
     },
     "metadata": {
      "needs_background": "light"
     },
     "output_type": "display_data"
    }
   ],
   "source": [
    "import matplotlib.pyplot as plt\n",
    "plt.figure()\n",
    "plt.plot(variancesSum)\n",
    "plt.show()\n",
    "    "
   ]
  },
  {
   "cell_type": "code",
   "execution_count": 329,
   "metadata": {},
   "outputs": [],
   "source": [
    "pca = PCA(n_components=300)\n",
    "X = pca.fit_transform(X)"
   ]
  },
  {
   "cell_type": "markdown",
   "metadata": {},
   "source": [
    "## 5.C. Evaluation of the first models"
   ]
  },
  {
   "cell_type": "code",
   "execution_count": 353,
   "metadata": {},
   "outputs": [
    {
     "name": "stdout",
     "output_type": "stream",
     "text": [
      "[0.76       0.71       0.81       0.78571429 0.82653061]\n",
      "0.7784489795918368\n"
     ]
    }
   ],
   "source": [
    "from sklearn.linear_model import LogisticRegression\n",
    "from sklearn.model_selection import cross_val_score\n",
    "from sklearn.model_selection import StratifiedKFold as SK\n",
    "clf = LogisticRegression(random_state=0, solver='lbfgs')\n",
    "scores = cross_val_score(clf,X,classe.ravel(),cv=SK(shuffle=True,n_splits=5))\n",
    "print(scores)\n",
    "print(np.mean(scores))"
   ]
  },
  {
   "cell_type": "code",
   "execution_count": 354,
   "metadata": {},
   "outputs": [
    {
     "name": "stdout",
     "output_type": "stream",
     "text": [
      "[0.8        0.74       0.83       0.74489796 0.81632653]\n",
      "0.7862448979591837\n"
     ]
    }
   ],
   "source": [
    "clf = LogisticRegression(random_state=0, solver='lbfgs')\n",
    "scores = cross_val_score(clf,X2,classe.ravel(),cv=SK(shuffle=True,n_splits=5))\n",
    "print(scores)\n",
    "print(np.mean(scores))"
   ]
  },
  {
   "cell_type": "code",
   "execution_count": 361,
   "metadata": {},
   "outputs": [
    {
     "name": "stdout",
     "output_type": "stream",
     "text": [
      "[0.77       0.83       0.73       0.82653061 0.78571429]\n",
      "0.7884489795918367\n"
     ]
    }
   ],
   "source": [
    "clf = LogisticRegression(random_state=1,solver='liblinear',class_weight='balanced',max_iter=1000,C=1)\n",
    "scores = cross_val_score(clf,X,classe.ravel(),cv=SK(shuffle=True,n_splits=5))\n",
    "print(scores)\n",
    "print(np.mean(scores))"
   ]
  },
  {
   "cell_type": "markdown",
   "metadata": {},
   "source": [
    "### Not significative improvment by tuning by hand the model"
   ]
  },
  {
   "cell_type": "markdown",
   "metadata": {},
   "source": [
    "## 5.D. Try to improve the model "
   ]
  },
  {
   "cell_type": "code",
   "execution_count": 268,
   "metadata": {},
   "outputs": [],
   "source": [
    "df = pd.read_csv('dataBase.csv')\n",
    "del(df['Unnamed: 0'])\n",
    "dfclasse = pd.read_csv('classe.csv')\n",
    "del(dfclasse['Unnamed: 0'])\n",
    "data = np.array(df)\n",
    "classe = np.array(dfclasse)\n",
    "columns = list(df.columns)\n",
    "for i in range(k):\n",
    "    data[i,-1] = stringToList(data[i,-1])\n",
    "    data[i,-2] = stringToList(data[i,-2])"
   ]
  },
  {
   "cell_type": "code",
   "execution_count": 269,
   "metadata": {},
   "outputs": [],
   "source": [
    "X = data[:,-1]"
   ]
  },
  {
   "cell_type": "code",
   "execution_count": 270,
   "metadata": {},
   "outputs": [],
   "source": [
    "def transformX5(X,classe):\n",
    "    X5 = []\n",
    "    y5 = []\n",
    "    k=len(X)\n",
    "    for i in range(k):\n",
    "        l = np.array(data[i,-1])\n",
    "        n = len(l)\n",
    "        indexes = [j for j in range(n)]\n",
    "        rd.shuffle(indexes)\n",
    "        naux = n//4\n",
    "        for j in range(4):\n",
    "            indexesaux = indexes[j*naux:(j+1)*naux]\n",
    "            laux = l[indexesaux]\n",
    "            X5.append(laux)\n",
    "            y5.append(classe[i])\n",
    "\n",
    "    return(X5,y5)"
   ]
  },
  {
   "cell_type": "code",
   "execution_count": 271,
   "metadata": {},
   "outputs": [],
   "source": [
    "X5,classe5 = transformX5(X,classe)\n",
    "X = []\n",
    "for i in range(len(X5)):\n",
    "    X.append(' '.join(X5[i]))\n",
    "\n",
    "vectorizer = TfidfVectorizer(max_df=0.7,min_df=0.01)\n",
    "X = vectorizer.fit_transform(X)\n",
    "n,l = X.shape"
   ]
  },
  {
   "cell_type": "code",
   "execution_count": 272,
   "metadata": {},
   "outputs": [],
   "source": [
    "X = X.todense()\n",
    "pca = PCA(n_components=300)\n",
    "X = pca.fit_transform(X)\n",
    "classe5 = np.array(classe5).reshape((n,))"
   ]
  },
  {
   "cell_type": "code",
   "execution_count": 273,
   "metadata": {},
   "outputs": [],
   "source": [
    "xtrain,xtest,ytrain,ytest = train_test_split(X,classe5,test_size = 0.2,shuffle=False)"
   ]
  },
  {
   "cell_type": "code",
   "execution_count": 274,
   "metadata": {},
   "outputs": [
    {
     "data": {
      "text/plain": [
       "0.7632241813602015"
      ]
     },
     "execution_count": 274,
     "metadata": {},
     "output_type": "execute_result"
    }
   ],
   "source": [
    "xtrain,ytrain = sklearn.utils.shuffle(xtrain,ytrain)\n",
    "clf = LogisticRegression(random_state=0, solver='lbfgs')\n",
    "clf.fit(xtrain,ytrain)\n",
    "clf.score(xtest,ytest)"
   ]
  },
  {
   "cell_type": "code",
   "execution_count": 284,
   "metadata": {},
   "outputs": [
    {
     "name": "stdout",
     "output_type": "stream",
     "text": [
      "0.7171717171717171\n",
      "0.7676767676767676\n",
      "0.7777777777777778\n",
      "0.7878787878787878\n"
     ]
    }
   ],
   "source": [
    "for counter in range(1,5):\n",
    "    true = 0\n",
    "    predictions = clf.predict(xtest)\n",
    "    for i in range(396//4):\n",
    "        count = 0\n",
    "        for j in range(1,5):\n",
    "            if(predictions[-(i*4+j)]):\n",
    "                count+=1\n",
    "        true += (count>=counter)==ytest[-(i*4+1)]\n",
    "\n",
    "    print(true/99)"
   ]
  },
  {
   "cell_type": "markdown",
   "metadata": {},
   "source": [
    "## Just some insights about articles length"
   ]
  },
  {
   "cell_type": "code",
   "execution_count": 259,
   "metadata": {},
   "outputs": [],
   "source": [
    "longueurs = [len(data[i,-1]) for i in range(k)]"
   ]
  },
  {
   "cell_type": "code",
   "execution_count": 265,
   "metadata": {},
   "outputs": [
    {
     "data": {
      "text/plain": [
       "10018"
      ]
     },
     "execution_count": 265,
     "metadata": {},
     "output_type": "execute_result"
    }
   ],
   "source": [
    "np.max(longueurs)"
   ]
  },
  {
   "cell_type": "code",
   "execution_count": 260,
   "metadata": {},
   "outputs": [
    {
     "data": {
      "text/plain": [
       "1527.975806451613"
      ]
     },
     "execution_count": 260,
     "metadata": {},
     "output_type": "execute_result"
    }
   ],
   "source": [
    "np.mean(longueurs)"
   ]
  },
  {
   "cell_type": "code",
   "execution_count": 261,
   "metadata": {},
   "outputs": [
    {
     "data": {
      "text/plain": [
       "402"
      ]
     },
     "execution_count": 261,
     "metadata": {},
     "output_type": "execute_result"
    }
   ],
   "source": [
    "np.argmin(longueurs)"
   ]
  },
  {
   "cell_type": "code",
   "execution_count": 266,
   "metadata": {},
   "outputs": [
    {
     "data": {
      "image/png": "[encoded data removed]",
      "text/plain": [
       "<Figure size 432x288 with 1 Axes>"
      ]
     },
     "metadata": {
      "needs_background": "light"
     },
     "output_type": "display_data"
    }
   ],
   "source": [
    "y = [0 for j in range(101)]\n",
    "x = [j for j in range(101)]\n",
    "for i in range(k):\n",
    "    y[longueurs[i]//100]+=1\n",
    "\n",
    "plt.figure()\n",
    "plt.bar(x,y)\n",
    "plt.show()"
   ]
  },
  {
   "cell_type": "code",
   "execution_count": 267,
   "metadata": {},
   "outputs": [
    {
     "data": {
      "text/plain": [
       "[3, 25, 10, 1, 1, 1]"
      ]
     },
     "execution_count": 267,
     "metadata": {},
     "output_type": "execute_result"
    }
   ],
   "source": [
    "y[:6]"
   ]
  }
 ],
 "metadata": {
  "kernelspec": {
   "display_name": "Python 3",
   "language": "python",
   "name": "python3"
  },
  "language_info": {
   "codemirror_mode": {
    "name": "ipython",
    "version": 3
   },
   "file_extension": ".py",
   "mimetype": "text/x-python",
   "name": "python",
   "nbconvert_exporter": "python",
   "pygments_lexer": "ipython3",
   "version": "3.7.1"
  }
 },
 "nbformat": 4,
 "nbformat_minor": 2
}
